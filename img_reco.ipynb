{
 "cells": [
  {
   "cell_type": "code",
   "execution_count": 6,
   "metadata": {},
   "outputs": [],
   "source": [
    "import os\n",
    "import cv2\n",
    "import pickle\n",
    "import numpy as np\n",
    "import face_recognition"
   ]
  },
  {
   "cell_type": "code",
   "execution_count": 7,
   "metadata": {},
   "outputs": [],
   "source": [
    "# Read Pickle file\n",
    "def readEncodingsPickle(fname):\n",
    "    data = pickle.loads(open(fname, \"rb\").read())\n",
    "    data = np.array(data)\n",
    "    encodings = [d[\"encoding\"] for d in data]\n",
    "    names = [d[\"name\"] for d in data]\n",
    "    return encodings, names\n",
    "\n",
    "# Create face encodings for a given image\n",
    "def createEncodings(image):\n",
    "    face_locations = face_recognition.face_locations(image)\n",
    "    known_encodings = face_recognition.face_encodings(image, known_face_locations=face_locations)\n",
    "    return known_encodings, face_locations\n",
    "\n",
    "# Compare face encodings\n",
    "def compareFaceEncodings(unknown_encoding, known_encodings, known_names):\n",
    "    duplicateName = \"\"\n",
    "    distance = 0.0\n",
    "    matches = face_recognition.compare_faces(known_encodings, unknown_encoding, tolerance=0.5)\n",
    "    face_distances = face_recognition.face_distance(known_encodings, unknown_encoding)\n",
    "    best_match_index = np.argmin(face_distances)\n",
    "    distance = face_distances[best_match_index]\n",
    "    if matches[best_match_index]:\n",
    "        acceptBool = True\n",
    "        duplicateName = known_names[best_match_index]\n",
    "    else:\n",
    "        acceptBool = False\n",
    "        duplicateName = \"\"\n",
    "    return acceptBool, duplicateName, distance\n",
    "\n",
    "# Save images to directory\n",
    "def saveImageToDirectory(image, path, imageName):\n",
    "    if not os.path.exists(path):\n",
    "        os.makedirs(path)\n",
    "    cv2.imwrite(os.path.join(path, imageName), image)"
   ]
  },
  {
   "cell_type": "code",
   "execution_count": 8,
   "metadata": {},
   "outputs": [
    {
     "name": "stdout",
     "output_type": "stream",
     "text": [
      "Loaded 1434 encodings from ./known_encodings.pickle\n"
     ]
    }
   ],
   "source": [
    "encodings_file = \"./known_encodings.pickle\"\n",
    "people_encodings, names = readEncodingsPickle(encodings_file)\n",
    "print(f\"Loaded {len(people_encodings)} encodings from {encodings_file}\")"
   ]
  },
  {
   "cell_type": "code",
   "execution_count": 12,
   "metadata": {},
   "outputs": [],
   "source": [
    "def processNewImages(path):\n",
    "    processed_images = set()  # to keep track of already processed images\n",
    "    \n",
    "    for img in os.listdir(path):\n",
    "        imgPath = os.path.join(path, img)\n",
    "\n",
    "        # Avoid duplicating images\n",
    "        if imgPath in processed_images:\n",
    "            continue\n",
    "        processed_images.add(imgPath)\n",
    "\n",
    "        # Read image\n",
    "        image = cv2.imread(imgPath)\n",
    "        if image is None:\n",
    "            continue\n",
    "        orig = image.copy()\n",
    "\n",
    "        # Resize\n",
    "        image = cv2.resize(image, (0, 0), fx=0.2, fy=0.2, interpolation=cv2.INTER_LINEAR)\n",
    "\n",
    "        # Get locations and encodings\n",
    "        encs, locs = createEncodings(image)\n",
    "\n",
    "        recognized_names = []\n",
    "        unknown_count = 1\n",
    "\n",
    "        # Processing image for each face\n",
    "        for loc, unknown_encoding in zip(locs, encs):\n",
    "            top, right, bottom, left = loc\n",
    "            acceptBool, duplicateName, distance = compareFaceEncodings(unknown_encoding, people_encodings, names)\n",
    "            if acceptBool:\n",
    "                recognized_names.append(duplicateName)\n",
    "            else:\n",
    "                recognized_names.append(f\"Unknown_{unknown_count}\")\n",
    "                unknown_count += 1\n",
    "        \n",
    "        # Group image based on recognized names\n",
    "        num_people = len(recognized_names)\n",
    "        if num_people > 1:\n",
    "            if num_people == 2:\n",
    "                group_name = f\"group/2_people_group/{'+'.join(sorted(recognized_names))}\"\n",
    "            elif num_people == 3:\n",
    "                group_name = f\"group/3_people_group/{'+'.join(sorted(recognized_names))}\"\n",
    "            elif num_people == 4:\n",
    "                group_name = f\"group/4_people_group/{'+'.join(sorted(recognized_names))}\"\n",
    "            else:\n",
    "                group_name = \"Group\"\n",
    "            saveImageToDirectory(orig, f\"./New_output/{group_name}\", img)\n",
    "        elif num_people == 1:\n",
    "            saveImageToDirectory(orig, f\"./New_output/{recognized_names[0]}\", img)\n",
    "\n",
    "        # Show Image\n",
    "        for loc in locs:\n",
    "            top, right, bottom, left = loc\n",
    "            cv2.rectangle(image, (left, top), (right, bottom), color=(255, 0, 0), thickness=2)\n",
    "            cv2.imshow(\"Image\", image)\n",
    "            cv2.waitKey(1)\n",
    "            cv2.destroyAllWindows()"
   ]
  },
  {
   "cell_type": "code",
   "execution_count": 14,
   "metadata": {},
   "outputs": [
    {
     "name": "stdout",
     "output_type": "stream",
     "text": [
      "Processing Completed\n"
     ]
    }
   ],
   "source": [
    "processNewImages(path=\"D:/Mommy/Internal/DCIM/Camera\")\n",
    "print(\"Processing Completed\")"
   ]
  },
  {
   "cell_type": "code",
   "execution_count": null,
   "metadata": {},
   "outputs": [],
   "source": []
  }
 ],
 "metadata": {
  "kernelspec": {
   "display_name": ".venv",
   "language": "python",
   "name": "python3"
  },
  "language_info": {
   "codemirror_mode": {
    "name": "ipython",
    "version": 3
   },
   "file_extension": ".py",
   "mimetype": "text/x-python",
   "name": "python",
   "nbconvert_exporter": "python",
   "pygments_lexer": "ipython3",
   "version": "3.10.11"
  }
 },
 "nbformat": 4,
 "nbformat_minor": 4
}
